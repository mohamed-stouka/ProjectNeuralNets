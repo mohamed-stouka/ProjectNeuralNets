{
 "cells": [
  {
   "cell_type": "code",
   "execution_count": 1,
   "metadata": {},
   "outputs": [],
   "source": [
    "# Importing the useful libararies\n",
    "import os\n",
    "import numpy as np \n",
    "import sys\n",
    "import pandas as pd\n",
    "from tensorflow.keras.optimizers import Adam\n",
    "from sklearn.feature_extraction.text import CountVectorizer\n",
    "from tensorflow.keras.preprocessing.text import Tokenizer\n",
    "from tensorflow.keras.preprocessing.sequence import pad_sequences\n",
    "from tensorflow.keras.models import Sequential\n",
    "from tensorflow.keras.layers import Dense, Embedding, LSTM, SpatialDropout1D, Conv1D, MaxPooling1D,Bidirectional,Dropout\n",
    "from sklearn.model_selection import train_test_split\n",
    "#from tensorflow.keras.utils.np_utils import to_categorical\n",
    "import gc\n",
    "from tensorflow.keras import backend as K\n",
    "from tensorflow.keras.backend import clear_session\n",
    "\n",
    "#from keras.utils import plot_model\n",
    "\n",
    "import matplotlib.pyplot as plt\n",
    "%matplotlib inline\n",
    "\n",
    "#exec(open(\"slim21.py\" ).read())\n",
    "\n"
   ]
  },
  {
   "cell_type": "code",
   "execution_count": 2,
   "metadata": {},
   "outputs": [
    {
     "name": "stdout",
     "output_type": "stream",
     "text": [
      "(422419, 8)\n"
     ]
    },
    {
     "data": {
      "text/html": [
       "<div>\n",
       "<style scoped>\n",
       "    .dataframe tbody tr th:only-of-type {\n",
       "        vertical-align: middle;\n",
       "    }\n",
       "\n",
       "    .dataframe tbody tr th {\n",
       "        vertical-align: top;\n",
       "    }\n",
       "\n",
       "    .dataframe thead th {\n",
       "        text-align: right;\n",
       "    }\n",
       "</style>\n",
       "<table border=\"1\" class=\"dataframe\">\n",
       "  <thead>\n",
       "    <tr style=\"text-align: right;\">\n",
       "      <th></th>\n",
       "      <th>ID</th>\n",
       "      <th>TITLE</th>\n",
       "      <th>URL</th>\n",
       "      <th>PUBLISHER</th>\n",
       "      <th>CATEGORY</th>\n",
       "      <th>STORY</th>\n",
       "      <th>HOSTNAME</th>\n",
       "      <th>TIMESTAMP</th>\n",
       "    </tr>\n",
       "  </thead>\n",
       "  <tbody>\n",
       "    <tr>\n",
       "      <th>0</th>\n",
       "      <td>1</td>\n",
       "      <td>Fed official says weak data caused by weather,...</td>\n",
       "      <td>http://www.latimes.com/business/money/la-fi-mo...</td>\n",
       "      <td>Los Angeles Times</td>\n",
       "      <td>b</td>\n",
       "      <td>ddUyU0VZz0BRneMioxUPQVP6sIxvM</td>\n",
       "      <td>www.latimes.com</td>\n",
       "      <td>1394470370698</td>\n",
       "    </tr>\n",
       "    <tr>\n",
       "      <th>1</th>\n",
       "      <td>2</td>\n",
       "      <td>Fed's Charles Plosser sees high bar for change...</td>\n",
       "      <td>http://www.livemint.com/Politics/H2EvwJSK2VE6O...</td>\n",
       "      <td>Livemint</td>\n",
       "      <td>b</td>\n",
       "      <td>ddUyU0VZz0BRneMioxUPQVP6sIxvM</td>\n",
       "      <td>www.livemint.com</td>\n",
       "      <td>1394470371207</td>\n",
       "    </tr>\n",
       "    <tr>\n",
       "      <th>2</th>\n",
       "      <td>3</td>\n",
       "      <td>US open: Stocks fall after Fed official hints ...</td>\n",
       "      <td>http://www.ifamagazine.com/news/us-open-stocks...</td>\n",
       "      <td>IFA Magazine</td>\n",
       "      <td>b</td>\n",
       "      <td>ddUyU0VZz0BRneMioxUPQVP6sIxvM</td>\n",
       "      <td>www.ifamagazine.com</td>\n",
       "      <td>1394470371550</td>\n",
       "    </tr>\n",
       "    <tr>\n",
       "      <th>3</th>\n",
       "      <td>4</td>\n",
       "      <td>Fed risks falling 'behind the curve', Charles ...</td>\n",
       "      <td>http://www.ifamagazine.com/news/fed-risks-fall...</td>\n",
       "      <td>IFA Magazine</td>\n",
       "      <td>b</td>\n",
       "      <td>ddUyU0VZz0BRneMioxUPQVP6sIxvM</td>\n",
       "      <td>www.ifamagazine.com</td>\n",
       "      <td>1394470371793</td>\n",
       "    </tr>\n",
       "    <tr>\n",
       "      <th>4</th>\n",
       "      <td>5</td>\n",
       "      <td>Fed's Plosser: Nasty Weather Has Curbed Job Gr...</td>\n",
       "      <td>http://www.moneynews.com/Economy/federal-reser...</td>\n",
       "      <td>Moneynews</td>\n",
       "      <td>b</td>\n",
       "      <td>ddUyU0VZz0BRneMioxUPQVP6sIxvM</td>\n",
       "      <td>www.moneynews.com</td>\n",
       "      <td>1394470372027</td>\n",
       "    </tr>\n",
       "  </tbody>\n",
       "</table>\n",
       "</div>"
      ],
      "text/plain": [
       "   ID                                              TITLE  \\\n",
       "0   1  Fed official says weak data caused by weather,...   \n",
       "1   2  Fed's Charles Plosser sees high bar for change...   \n",
       "2   3  US open: Stocks fall after Fed official hints ...   \n",
       "3   4  Fed risks falling 'behind the curve', Charles ...   \n",
       "4   5  Fed's Plosser: Nasty Weather Has Curbed Job Gr...   \n",
       "\n",
       "                                                 URL          PUBLISHER  \\\n",
       "0  http://www.latimes.com/business/money/la-fi-mo...  Los Angeles Times   \n",
       "1  http://www.livemint.com/Politics/H2EvwJSK2VE6O...           Livemint   \n",
       "2  http://www.ifamagazine.com/news/us-open-stocks...       IFA Magazine   \n",
       "3  http://www.ifamagazine.com/news/fed-risks-fall...       IFA Magazine   \n",
       "4  http://www.moneynews.com/Economy/federal-reser...          Moneynews   \n",
       "\n",
       "  CATEGORY                          STORY             HOSTNAME      TIMESTAMP  \n",
       "0        b  ddUyU0VZz0BRneMioxUPQVP6sIxvM      www.latimes.com  1394470370698  \n",
       "1        b  ddUyU0VZz0BRneMioxUPQVP6sIxvM     www.livemint.com  1394470371207  \n",
       "2        b  ddUyU0VZz0BRneMioxUPQVP6sIxvM  www.ifamagazine.com  1394470371550  \n",
       "3        b  ddUyU0VZz0BRneMioxUPQVP6sIxvM  www.ifamagazine.com  1394470371793  \n",
       "4        b  ddUyU0VZz0BRneMioxUPQVP6sIxvM    www.moneynews.com  1394470372027  "
      ]
     },
     "execution_count": 2,
     "metadata": {},
     "output_type": "execute_result"
    }
   ],
   "source": [
    "#importing the News aggregator dataset\n",
    "df = pd.read_csv('uci-news-aggregator.csv')\n",
    "\n",
    "print (df.shape)\n",
    "df.head()"
   ]
  },
  {
   "cell_type": "code",
   "execution_count": 3,
   "metadata": {},
   "outputs": [
    {
     "name": "stdout",
     "output_type": "stream",
     "text": [
      "before removing duplicate titles \n",
      " e    152469\n",
      "b    115967\n",
      "t    108344\n",
      "m     45639\n",
      "Name: CATEGORY, dtype: int64\n",
      "after removing duplicate titles \n",
      " e    146862\n",
      "b    111669\n",
      "t    104291\n",
      "m     43633\n",
      "Name: CATEGORY, dtype: int64\n"
     ]
    }
   ],
   "source": [
    "# removing duplicate titles if any \n",
    "print ( \"before removing duplicate titles \\n\",df.CATEGORY.value_counts())\n",
    "df = df.drop_duplicates( subset = ['TITLE'] )\n",
    "print ( \"after removing duplicate titles \\n\", df.CATEGORY.value_counts())"
   ]
  },
  {
   "cell_type": "code",
   "execution_count": 4,
   "metadata": {},
   "outputs": [
    {
     "data": {
      "text/html": [
       "<div>\n",
       "<style scoped>\n",
       "    .dataframe tbody tr th:only-of-type {\n",
       "        vertical-align: middle;\n",
       "    }\n",
       "\n",
       "    .dataframe tbody tr th {\n",
       "        vertical-align: top;\n",
       "    }\n",
       "\n",
       "    .dataframe thead th {\n",
       "        text-align: right;\n",
       "    }\n",
       "</style>\n",
       "<table border=\"1\" class=\"dataframe\">\n",
       "  <thead>\n",
       "    <tr style=\"text-align: right;\">\n",
       "      <th></th>\n",
       "      <th>CATEGORY</th>\n",
       "    </tr>\n",
       "  </thead>\n",
       "  <tbody>\n",
       "    <tr>\n",
       "      <th>e</th>\n",
       "      <td>17943</td>\n",
       "    </tr>\n",
       "    <tr>\n",
       "      <th>b</th>\n",
       "      <td>13648</td>\n",
       "    </tr>\n",
       "    <tr>\n",
       "      <th>t</th>\n",
       "      <td>12976</td>\n",
       "    </tr>\n",
       "    <tr>\n",
       "      <th>m</th>\n",
       "      <td>5433</td>\n",
       "    </tr>\n",
       "  </tbody>\n",
       "</table>\n",
       "</div>"
      ],
      "text/plain": [
       "   CATEGORY\n",
       "e     17943\n",
       "b     13648\n",
       "t     12976\n",
       "m      5433"
      ]
     },
     "execution_count": 4,
     "metadata": {},
     "output_type": "execute_result"
    }
   ],
   "source": [
    "#extracting a random sample for model development\n",
    "dt = df[['CATEGORY', 'TITLE']].sample(50000, random_state = 22)\n",
    "dt.shape\n",
    "cat_count = pd.DataFrame(dt.CATEGORY.value_counts())\n",
    "cat_count"
   ]
  },
  {
   "cell_type": "code",
   "execution_count": null,
   "metadata": {},
   "outputs": [],
   "source": []
  },
  {
   "cell_type": "code",
   "execution_count": 5,
   "metadata": {},
   "outputs": [
    {
     "data": {
      "text/plain": [
       "Text(0.5, 1.0, 'Count of News Articles in each Category')"
      ]
     },
     "execution_count": 5,
     "metadata": {},
     "output_type": "execute_result"
    },
    {
     "data": {
      "image/png": "[encoded data removed]",
      "text/plain": [
       "<Figure size 360x360 with 1 Axes>"
      ]
     },
     "metadata": {
      "needs_background": "light"
     },
     "output_type": "display_data"
    }
   ],
   "source": [
    "#plotting the distribution of counts of categories\n",
    "plt.bar(cat_count.index,cat_count['CATEGORY'], color = ['g','b','c','y'])\n",
    "\n",
    "\n",
    "ax = cat_count['CATEGORY'].plot(kind='bar' ,color = ['g','b','c','y'],figsize=(5,5), edgecolor=None)\n",
    "\n",
    "for p in ax.patches[:4]:\n",
    "    width, height = p.get_width(), p.get_height()\n",
    "    perc = height/cat_count['CATEGORY'].sum()\n",
    "    x, y = p.get_xy() \n",
    "    ax.annotate('{:.0%}'.format(perc), (x+0.3, y + height + 70))\n",
    "\n",
    "\n",
    "plt.xticks(cat_count.index,['Entertainment' , 'Buisiness', 'Technology','Health'],rotation=45, fontsize=14)\n",
    "plt.ylabel('Count', fontsize=14)\n",
    "plt.xlabel('Categories' ,  fontsize=20)\n",
    "plt.title('Count of News Articles in each Category',   fontsize=20)\n"
   ]
  },
  {
   "cell_type": "code",
   "execution_count": null,
   "metadata": {},
   "outputs": [],
   "source": []
  },
  {
   "cell_type": "code",
   "execution_count": 6,
   "metadata": {},
   "outputs": [
    {
     "name": "stdout",
     "output_type": "stream",
     "text": [
      "(35000, 10) (35000, 4)\n",
      "(15000, 10) (15000, 4)\n"
     ]
    }
   ],
   "source": [
    "#using tokenizer library to convert text sentences to word tokens and subsequently converting them to numerical sequences\n",
    "tokenizer = Tokenizer(num_words=10000, lower=True)\n",
    "\n",
    "tokenizer.fit_on_texts(dt['TITLE'].values)\n",
    "X = tokenizer.texts_to_sequences(dt['TITLE'].values)\n",
    "X = pad_sequences(X, 10)\n",
    "\n",
    "#converting the dependent categorical variable using one-hot encoding to numerical array\n",
    "Y = pd.get_dummies(dt['CATEGORY']).values\n",
    "np.set_printoptions(threshold=sys.maxsize)\n",
    "\n",
    "#Splitting the dataset into training and testing\n",
    "X_train, X_test, Y_train, Y_test = train_test_split(X,Y, test_size = 0.3, random_state = 22)\n",
    "\n",
    "print(X_train.shape,Y_train.shape)\n",
    "print(X_test.shape,Y_test.shape)"
   ]
  },
  {
   "cell_type": "code",
   "execution_count": 7,
   "metadata": {},
   "outputs": [
    {
     "name": "stdout",
     "output_type": "stream",
     "text": [
      "0     9549\n",
      "1    12446\n",
      "2     3815\n",
      "3     9190\n",
      "dtype: int64\n",
      "0    4099\n",
      "1    5497\n",
      "2    1618\n",
      "3    3786\n",
      "dtype: int64\n"
     ]
    }
   ],
   "source": [
    "#0:b, 1:e, 2:m, 3:t\n",
    "print (pd.DataFrame(Y_train).sum())\n",
    "print (pd.DataFrame(Y_test).sum())\n"
   ]
  },
  {
   "cell_type": "code",
   "execution_count": 8,
   "metadata": {},
   "outputs": [
    {
     "name": "stdout",
     "output_type": "stream",
     "text": [
      "[[   0    0   18  428  962  439 9800    5   50  204]\n",
      " [   1    3 3270  209  151 1031 1315 1284    6  100]\n",
      " [   0    0  260  361 1549 7857 7858   15 9801  312]\n",
      " [ 936  294    1 2343  792  378  861    1  664  563]]\n"
     ]
    },
    {
     "data": {
      "text/plain": [
       "array([[0, 0, 0, 1],\n",
       "       [0, 1, 0, 0],\n",
       "       [1, 0, 0, 0],\n",
       "       [0, 0, 1, 0]], dtype=uint8)"
      ]
     },
     "execution_count": 8,
     "metadata": {},
     "output_type": "execute_result"
    }
   ],
   "source": [
    "# how the data looks\n",
    "print (X[0:4])\n",
    "Y[0:4]\n"
   ]
  },
  {
   "cell_type": "code",
   "execution_count": null,
   "metadata": {},
   "outputs": [],
   "source": []
  },
  {
   "cell_type": "code",
   "execution_count": 9,
   "metadata": {},
   "outputs": [
    {
     "name": "stdout",
     "output_type": "stream",
     "text": [
      "Model: \"sequential\"\n",
      "_________________________________________________________________\n",
      "Layer (type)                 Output Shape              Param #   \n",
      "=================================================================\n",
      "embedding (Embedding)        (None, 10, 64)            640000    \n",
      "_________________________________________________________________\n",
      "spatial_dropout1d (SpatialDr (None, 10, 64)            0         \n",
      "_________________________________________________________________\n",
      "conv1d (Conv1D)              (None, 6, 64)             20544     \n",
      "_________________________________________________________________\n",
      "max_pooling1d (MaxPooling1D) (None, 3, 64)             0         \n",
      "_________________________________________________________________\n",
      "lstm (LSTM)                  (None, 64)                33024     \n",
      "_________________________________________________________________\n",
      "dropout (Dropout)            (None, 64)                0         \n",
      "_________________________________________________________________\n",
      "dense (Dense)                (None, 4)                 260       \n",
      "=================================================================\n",
      "Total params: 693,828\n",
      "Trainable params: 693,828\n",
      "Non-trainable params: 0\n",
      "_________________________________________________________________\n",
      "None\n",
      "Epoch 1/20\n",
      "70/70 [==============================] - 3s 25ms/step - loss: 1.3358 - accuracy: 0.3451 - val_loss: 1.0748 - val_accuracy: 0.6234\n",
      "Epoch 2/20\n",
      "70/70 [==============================] - 1s 17ms/step - loss: 0.9230 - accuracy: 0.6335 - val_loss: 0.5295 - val_accuracy: 0.7921\n",
      "Epoch 3/20\n",
      "70/70 [==============================] - 1s 16ms/step - loss: 0.5492 - accuracy: 0.7972 - val_loss: 0.3871 - val_accuracy: 0.8760\n",
      "Epoch 4/20\n",
      "70/70 [==============================] - 1s 15ms/step - loss: 0.3784 - accuracy: 0.8739 - val_loss: 0.3412 - val_accuracy: 0.8875\n",
      "Epoch 5/20\n",
      "70/70 [==============================] - 1s 16ms/step - loss: 0.3087 - accuracy: 0.9017 - val_loss: 0.3276 - val_accuracy: 0.8926\n",
      "Epoch 6/20\n",
      "70/70 [==============================] - 1s 15ms/step - loss: 0.2644 - accuracy: 0.9153 - val_loss: 0.3246 - val_accuracy: 0.8951\n",
      "Epoch 7/20\n",
      "70/70 [==============================] - 1s 15ms/step - loss: 0.2381 - accuracy: 0.9239 - val_loss: 0.3285 - val_accuracy: 0.8969\n",
      "Epoch 8/20\n",
      "70/70 [==============================] - 1s 15ms/step - loss: 0.2113 - accuracy: 0.9302 - val_loss: 0.3302 - val_accuracy: 0.8963\n",
      "Epoch 9/20\n",
      "70/70 [==============================] - 1s 15ms/step - loss: 0.1927 - accuracy: 0.9371 - val_loss: 0.3441 - val_accuracy: 0.8971\n",
      "Epoch 10/20\n",
      "70/70 [==============================] - 1s 15ms/step - loss: 0.1769 - accuracy: 0.9437 - val_loss: 0.3493 - val_accuracy: 0.8967\n",
      "Epoch 11/20\n",
      "70/70 [==============================] - 1s 18ms/step - loss: 0.1598 - accuracy: 0.9478 - val_loss: 0.3561 - val_accuracy: 0.8977\n",
      "Epoch 12/20\n",
      "70/70 [==============================] - 2s 28ms/step - loss: 0.1489 - accuracy: 0.9504 - val_loss: 0.3631 - val_accuracy: 0.8959\n",
      "Epoch 13/20\n",
      "70/70 [==============================] - 2s 24ms/step - loss: 0.1390 - accuracy: 0.9548 - val_loss: 0.3752 - val_accuracy: 0.8975\n",
      "Epoch 14/20\n",
      "70/70 [==============================] - 2s 23ms/step - loss: 0.1271 - accuracy: 0.9571 - val_loss: 0.3870 - val_accuracy: 0.8963\n",
      "Epoch 15/20\n",
      "70/70 [==============================] - 2s 24ms/step - loss: 0.1251 - accuracy: 0.9592 - val_loss: 0.3885 - val_accuracy: 0.8973\n",
      "Epoch 16/20\n",
      "70/70 [==============================] - 2s 24ms/step - loss: 0.1201 - accuracy: 0.9602 - val_loss: 0.3985 - val_accuracy: 0.8973\n",
      "Epoch 17/20\n",
      "70/70 [==============================] - 2s 26ms/step - loss: 0.1065 - accuracy: 0.9631 - val_loss: 0.4088 - val_accuracy: 0.8952\n",
      "Epoch 18/20\n",
      "70/70 [==============================] - 2s 26ms/step - loss: 0.1043 - accuracy: 0.9629 - val_loss: 0.4047 - val_accuracy: 0.8965\n",
      "Epoch 19/20\n",
      "70/70 [==============================] - 2s 27ms/step - loss: 0.0990 - accuracy: 0.9664 - val_loss: 0.4191 - val_accuracy: 0.8969\n",
      "Epoch 20/20\n",
      "70/70 [==============================] - 2s 30ms/step - loss: 0.0960 - accuracy: 0.9673 - val_loss: 0.4240 - val_accuracy: 0.8967\n"
     ]
    },
    {
     "data": {
      "text/plain": [
       "6905"
      ]
     },
     "execution_count": 9,
     "metadata": {},
     "output_type": "execute_result"
    }
   ],
   "source": [
    "\n",
    "seed = 22\n",
    "np.random.seed(seed)\n",
    "model = Sequential()\n",
    "model.add(Embedding(10000, 64,input_length = X_train.shape[1] ))\n",
    "model.add(SpatialDropout1D(0.7 ))\n",
    "model.add(Conv1D(64,5,padding='valid',activation='relu',strides=1))\n",
    "model.add(MaxPooling1D(pool_size=2 ))\n",
    "#model.add(sl.LSTMs(implementation= 1,return_sequences=False,units=64,activation= 'sigmoid',input_shape=X_train.shape[1:], model='LSTM3'))\n",
    "model.add(LSTM(64, activation ='relu'))#, dropout=0.5, recurrent_dropout=0.5))\n",
    "model.add(Dropout(0.5 ))\n",
    "model.add(Dense(4,activation='softmax'))\n",
    "adam = Adam(lr = 0.0001, beta_1=0.9, beta_2=0.999, epsilon=1e-08, decay=0.0 )\n",
    "model.compile(loss = 'categorical_crossentropy', optimizer='adam',metrics = ['accuracy'])\n",
    "print(model.summary())\n",
    "\n",
    "hist = model.fit(X_train, Y_train, epochs= 20,verbose=1 , batch_size= 500,validation_data=(X_test, Y_test) ,shuffle=False)\n",
    "\n",
    "gc.collect()\n"
   ]
  },
  {
   "cell_type": "code",
   "execution_count": 10,
   "metadata": {},
   "outputs": [],
   "source": [
    "import skopt\n",
    "# !pip install scikit-optimize if  necessary\n",
    "from skopt import gbrt_minimize, gp_minimize\n",
    "from skopt.utils import use_named_args\n",
    "from skopt.space import Real, Categorical, Integer  "
   ]
  },
  {
   "cell_type": "code",
   "execution_count": 12,
   "metadata": {},
   "outputs": [],
   "source": [
    "dim_learning_rate = Real(low=1e-4, high=1e-2, prior='log-uniform',\n",
    "                         name='learning_rate')\n",
    "#dim_num_dense_layers = Integer(low=1, high=5, name='num_dense_layers')\n",
    "#dim_num_input_nodes = Integer(low=1, high=512, name='num_input_nodes')\n",
    "#dim_num_dense_nodes = Integer(low=1, high=28, name='num_dense_nodes')\n",
    "dim_activation = Categorical(categories=['relu', 'sigmoid'],\n",
    "                             name='activation')\n",
    "dim_batch_size = Integer(low=1, high=128, name='batch_size')\n",
    "dim_adam_decay = Real(low=1e-6,high=1e-2,name=\"adam_decay\")\n",
    "\n",
    "dimensions = [dim_learning_rate,\n",
    "              dim_activation,\n",
    "              dim_batch_size,\n",
    "              dim_adam_decay\n",
    "             ]\n",
    "default_parameters = [1e-3,'relu',64, 1e-3]"
   ]
  },
  {
   "cell_type": "code",
   "execution_count": 24,
   "metadata": {},
   "outputs": [],
   "source": [
    "import tensorflow as tf\n",
    "\n",
    "def create_model(learning_rate, activation, adam_decay):\n",
    "    #start the model making process and create our first layer\n",
    "    model = Sequential()\n",
    "    model.add(Embedding(10000, 64,input_length = X_train.shape[1] ))\n",
    "    model.add(SpatialDropout1D(0.7 ))\n",
    "    model.add(Conv1D(64,5,padding='valid',activation=activation,strides=1))\n",
    "    model.add(MaxPooling1D(pool_size=2 ))\n",
    "    #model.add(sl.LSTMs(implementation= 1,return_sequences=False,units=64,activation= 'sigmoid',input_shape=X_train.shape[1:], model='LSTM3'))\n",
    "    model.add(LSTM(64, activation =activation))#, dropout=0.5, recurrent_dropout=0.5))\n",
    "    model.add(Dropout(0.5 ))\n",
    "    model.add(Dense(4,activation='softmax'))\n",
    "    adam = Adam(lr = learning_rate, beta_1=0.9, beta_2=0.999, epsilon=1e-08, decay=adam_decay)\n",
    "    model.compile(loss = 'categorical_crossentropy', optimizer='adam',metrics = ['accuracy'])\n",
    "\n",
    "    return model"
   ]
  },
  {
   "cell_type": "code",
   "execution_count": 29,
   "metadata": {},
   "outputs": [],
   "source": [
    "@use_named_args(dimensions=dimensions)\n",
    "def fitness(learning_rate,activation, batch_size,adam_decay):\n",
    "\n",
    "    model = create_model(learning_rate=learning_rate,\n",
    "                         activation=activation,\n",
    "                         adam_decay=adam_decay\n",
    "                        )\n",
    "    \n",
    "\n",
    "    #named blackbox becuase it represents the structure\n",
    "    blackbox = model.fit(X_train, Y_train, epochs= 20,verbose=1 , batch_size= batch_size,validation_data=(X_test, Y_test) ,shuffle=False)\n",
    "    \n",
    "    #blackbox = model.fit(x=X_train,\n",
    "    #                    y=y_train,\n",
    "    #                    epochs=3,\n",
    "    #                    batch_size=batch_size,\n",
    "    #                    validation_split=0.15,\n",
    "    #                    )\n",
    "    #return the validation accuracy for the last epoch.\n",
    "    #accuracy = blackbox.history['val_acc'][-1]\n",
    "\n",
    "    # Print the classification accuracy.\n",
    "    #print()\n",
    "    #print(\"Accuracy: {0:.2%}\".format(accuracy))\n",
    "    #print()\n",
    "\n",
    "\n",
    "    # Delete the Keras model with these hyper-parameters from memory.\n",
    "    del model\n",
    "    \n",
    "    # Clear the Keras session, otherwise it will keep adding new\n",
    "    # models to the same TensorFlow graph each time we create\n",
    "    # a model with a different set of hyper-parameters.\n",
    "    K.clear_session()\n",
    "    #tf.reset_default_graph()\n",
    "    \n",
    "    # the optimizer aims for the lowest score, so we return our negative accuracy\n",
    "    #return -accuracy"
   ]
  },
  {
   "cell_type": "code",
   "execution_count": 30,
   "metadata": {},
   "outputs": [
    {
     "name": "stdout",
     "output_type": "stream",
     "text": [
      "Epoch 1/20\n",
      "547/547 [==============================] - 5s 7ms/step - loss: 1.1208 - accuracy: 0.4819 - val_loss: 0.4336 - val_accuracy: 0.8627\n",
      "Epoch 2/20\n",
      "547/547 [==============================] - 12s 22ms/step - loss: 0.4583 - accuracy: 0.8454 - val_loss: 0.3304 - val_accuracy: 0.8921\n",
      "Epoch 3/20\n",
      "547/547 [==============================] - 11s 19ms/step - loss: 0.3188 - accuracy: 0.8942 - val_loss: 0.3047 - val_accuracy: 0.9005\n",
      "Epoch 4/20\n",
      "547/547 [==============================] - 11s 19ms/step - loss: 0.2554 - accuracy: 0.9139 - val_loss: 0.3037 - val_accuracy: 0.9051\n",
      "Epoch 5/20\n",
      "547/547 [==============================] - 9s 17ms/step - loss: 0.2194 - accuracy: 0.9288 - val_loss: 0.3052 - val_accuracy: 0.9039\n",
      "Epoch 6/20\n",
      "547/547 [==============================] - 9s 16ms/step - loss: 0.1859 - accuracy: 0.9378 - val_loss: 0.3179 - val_accuracy: 0.9041\n",
      "Epoch 7/20\n",
      "547/547 [==============================] - 9s 17ms/step - loss: 0.1762 - accuracy: 0.9423 - val_loss: 0.3285 - val_accuracy: 0.9032\n",
      "Epoch 8/20\n",
      "547/547 [==============================] - 10s 19ms/step - loss: 0.1574 - accuracy: 0.9487 - val_loss: 0.3346 - val_accuracy: 0.9031\n",
      "Epoch 9/20\n",
      "547/547 [==============================] - 10s 18ms/step - loss: 0.1472 - accuracy: 0.9523 - val_loss: 0.3452 - val_accuracy: 0.9046\n",
      "Epoch 10/20\n",
      "547/547 [==============================] - 10s 18ms/step - loss: 0.1304 - accuracy: 0.9560 - val_loss: 0.3702 - val_accuracy: 0.9029\n",
      "Epoch 11/20\n",
      "547/547 [==============================] - 10s 18ms/step - loss: 0.1208 - accuracy: 0.9601 - val_loss: 0.3785 - val_accuracy: 0.9051\n",
      "Epoch 12/20\n",
      "547/547 [==============================] - 10s 18ms/step - loss: 0.1124 - accuracy: 0.9622 - val_loss: 0.3808 - val_accuracy: 0.9037\n",
      "Epoch 13/20\n",
      "547/547 [==============================] - 10s 17ms/step - loss: 0.1107 - accuracy: 0.9639 - val_loss: 0.4038 - val_accuracy: 0.9011\n",
      "Epoch 14/20\n",
      "547/547 [==============================] - 13s 23ms/step - loss: 0.0982 - accuracy: 0.9670 - val_loss: 0.4252 - val_accuracy: 0.9017\n",
      "Epoch 15/20\n",
      "547/547 [==============================] - 8s 15ms/step - loss: 0.0982 - accuracy: 0.9678 - val_loss: 0.4579 - val_accuracy: 0.9023\n",
      "Epoch 16/20\n",
      "547/547 [==============================] - 9s 16ms/step - loss: 0.0871 - accuracy: 0.9712 - val_loss: 0.4371 - val_accuracy: 0.9009\n",
      "Epoch 17/20\n",
      "547/547 [==============================] - 11s 20ms/step - loss: 0.0898 - accuracy: 0.9692 - val_loss: 0.4756 - val_accuracy: 0.9005 - loss: 0.0901  - ETA: 0s - loss: 0.0899 - ac\n",
      "Epoch 18/20\n",
      "547/547 [==============================] - 10s 19ms/step - loss: 0.0854 - accuracy: 0.9702 - val_loss: 0.4710 - val_accuracy: 0.9001\n",
      "Epoch 19/20\n",
      "547/547 [==============================] - 8s 14ms/step - loss: 0.0779 - accuracy: 0.9728 - val_loss: 0.4954 - val_accuracy: 0.9007\n",
      "Epoch 20/20\n",
      "547/547 [==============================] - 8s 16ms/step - loss: 0.0800 - accuracy: 0.9741 - val_loss: 0.5037 - val_accuracy: 0.8997\n"
     ]
    },
    {
     "ename": "ValueError",
     "evalue": "expected y to be a list of scalars",
     "output_type": "error",
     "traceback": [
      "\u001b[1;31m---------------------------------------------------------------------------\u001b[0m",
      "\u001b[1;31mValueError\u001b[0m                                Traceback (most recent call last)",
      "\u001b[1;32m<ipython-input-30-266d1619f50d>\u001b[0m in \u001b[0;36m<module>\u001b[1;34m\u001b[0m\n\u001b[1;32m----> 1\u001b[1;33m gp_result = gp_minimize(func=fitness,\n\u001b[0m\u001b[0;32m      2\u001b[0m                             \u001b[0mdimensions\u001b[0m\u001b[1;33m=\u001b[0m\u001b[0mdimensions\u001b[0m\u001b[1;33m,\u001b[0m\u001b[1;33m\u001b[0m\u001b[1;33m\u001b[0m\u001b[0m\n\u001b[0;32m      3\u001b[0m                             \u001b[0mn_calls\u001b[0m\u001b[1;33m=\u001b[0m\u001b[1;36m12\u001b[0m\u001b[1;33m,\u001b[0m\u001b[1;33m\u001b[0m\u001b[1;33m\u001b[0m\u001b[0m\n\u001b[0;32m      4\u001b[0m                             \u001b[0mnoise\u001b[0m\u001b[1;33m=\u001b[0m \u001b[1;36m0.01\u001b[0m\u001b[1;33m,\u001b[0m\u001b[1;33m\u001b[0m\u001b[1;33m\u001b[0m\u001b[0m\n\u001b[0;32m      5\u001b[0m                             \u001b[0mn_jobs\u001b[0m\u001b[1;33m=\u001b[0m\u001b[1;33m-\u001b[0m\u001b[1;36m1\u001b[0m\u001b[1;33m,\u001b[0m\u001b[1;33m\u001b[0m\u001b[1;33m\u001b[0m\u001b[0m\n",
      "\u001b[1;32m~\\Anaconda3\\lib\\site-packages\\skopt\\optimizer\\gp.py\u001b[0m in \u001b[0;36mgp_minimize\u001b[1;34m(func, dimensions, base_estimator, n_calls, n_random_starts, n_initial_points, initial_point_generator, acq_func, acq_optimizer, x0, y0, random_state, verbose, callback, n_points, n_restarts_optimizer, xi, kappa, noise, n_jobs, model_queue_size)\u001b[0m\n\u001b[0;32m    257\u001b[0m             noise=noise)\n\u001b[0;32m    258\u001b[0m \u001b[1;33m\u001b[0m\u001b[0m\n\u001b[1;32m--> 259\u001b[1;33m     return base_minimize(\n\u001b[0m\u001b[0;32m    260\u001b[0m         \u001b[0mfunc\u001b[0m\u001b[1;33m,\u001b[0m \u001b[0mspace\u001b[0m\u001b[1;33m,\u001b[0m \u001b[0mbase_estimator\u001b[0m\u001b[1;33m=\u001b[0m\u001b[0mbase_estimator\u001b[0m\u001b[1;33m,\u001b[0m\u001b[1;33m\u001b[0m\u001b[1;33m\u001b[0m\u001b[0m\n\u001b[0;32m    261\u001b[0m         \u001b[0macq_func\u001b[0m\u001b[1;33m=\u001b[0m\u001b[0macq_func\u001b[0m\u001b[1;33m,\u001b[0m\u001b[1;33m\u001b[0m\u001b[1;33m\u001b[0m\u001b[0m\n",
      "\u001b[1;32m~\\Anaconda3\\lib\\site-packages\\skopt\\optimizer\\base.py\u001b[0m in \u001b[0;36mbase_minimize\u001b[1;34m(func, dimensions, base_estimator, n_calls, n_random_starts, n_initial_points, initial_point_generator, acq_func, acq_optimizer, x0, y0, random_state, verbose, callback, n_points, n_restarts_optimizer, xi, kappa, n_jobs, model_queue_size)\u001b[0m\n\u001b[0;32m    291\u001b[0m         \u001b[1;32mif\u001b[0m \u001b[0mlen\u001b[0m\u001b[1;33m(\u001b[0m\u001b[0mx0\u001b[0m\u001b[1;33m)\u001b[0m \u001b[1;33m!=\u001b[0m \u001b[0mlen\u001b[0m\u001b[1;33m(\u001b[0m\u001b[0my0\u001b[0m\u001b[1;33m)\u001b[0m\u001b[1;33m:\u001b[0m\u001b[1;33m\u001b[0m\u001b[1;33m\u001b[0m\u001b[0m\n\u001b[0;32m    292\u001b[0m             \u001b[1;32mraise\u001b[0m \u001b[0mValueError\u001b[0m\u001b[1;33m(\u001b[0m\u001b[1;34m\"`x0` and `y0` should have the same length\"\u001b[0m\u001b[1;33m)\u001b[0m\u001b[1;33m\u001b[0m\u001b[1;33m\u001b[0m\u001b[0m\n\u001b[1;32m--> 293\u001b[1;33m         \u001b[0mresult\u001b[0m \u001b[1;33m=\u001b[0m \u001b[0moptimizer\u001b[0m\u001b[1;33m.\u001b[0m\u001b[0mtell\u001b[0m\u001b[1;33m(\u001b[0m\u001b[0mx0\u001b[0m\u001b[1;33m,\u001b[0m \u001b[0my0\u001b[0m\u001b[1;33m)\u001b[0m\u001b[1;33m\u001b[0m\u001b[1;33m\u001b[0m\u001b[0m\n\u001b[0m\u001b[0;32m    294\u001b[0m         \u001b[0mresult\u001b[0m\u001b[1;33m.\u001b[0m\u001b[0mspecs\u001b[0m \u001b[1;33m=\u001b[0m \u001b[0mspecs\u001b[0m\u001b[1;33m\u001b[0m\u001b[1;33m\u001b[0m\u001b[0m\n\u001b[0;32m    295\u001b[0m         \u001b[1;32mif\u001b[0m \u001b[0meval_callbacks\u001b[0m\u001b[1;33m(\u001b[0m\u001b[0mcallbacks\u001b[0m\u001b[1;33m,\u001b[0m \u001b[0mresult\u001b[0m\u001b[1;33m)\u001b[0m\u001b[1;33m:\u001b[0m\u001b[1;33m\u001b[0m\u001b[1;33m\u001b[0m\u001b[0m\n",
      "\u001b[1;32m~\\Anaconda3\\lib\\site-packages\\skopt\\optimizer\\optimizer.py\u001b[0m in \u001b[0;36mtell\u001b[1;34m(self, x, y, fit)\u001b[0m\n\u001b[0;32m    481\u001b[0m         \"\"\"\n\u001b[0;32m    482\u001b[0m         \u001b[0mcheck_x_in_space\u001b[0m\u001b[1;33m(\u001b[0m\u001b[0mx\u001b[0m\u001b[1;33m,\u001b[0m \u001b[0mself\u001b[0m\u001b[1;33m.\u001b[0m\u001b[0mspace\u001b[0m\u001b[1;33m)\u001b[0m\u001b[1;33m\u001b[0m\u001b[1;33m\u001b[0m\u001b[0m\n\u001b[1;32m--> 483\u001b[1;33m         \u001b[0mself\u001b[0m\u001b[1;33m.\u001b[0m\u001b[0m_check_y_is_valid\u001b[0m\u001b[1;33m(\u001b[0m\u001b[0mx\u001b[0m\u001b[1;33m,\u001b[0m \u001b[0my\u001b[0m\u001b[1;33m)\u001b[0m\u001b[1;33m\u001b[0m\u001b[1;33m\u001b[0m\u001b[0m\n\u001b[0m\u001b[0;32m    484\u001b[0m \u001b[1;33m\u001b[0m\u001b[0m\n\u001b[0;32m    485\u001b[0m         \u001b[1;31m# take the logarithm of the computation times\u001b[0m\u001b[1;33m\u001b[0m\u001b[1;33m\u001b[0m\u001b[1;33m\u001b[0m\u001b[0m\n",
      "\u001b[1;32m~\\Anaconda3\\lib\\site-packages\\skopt\\optimizer\\optimizer.py\u001b[0m in \u001b[0;36m_check_y_is_valid\u001b[1;34m(self, x, y)\u001b[0m\n\u001b[0;32m    630\u001b[0m             \u001b[1;32mfor\u001b[0m \u001b[0my_value\u001b[0m \u001b[1;32min\u001b[0m \u001b[0my\u001b[0m\u001b[1;33m:\u001b[0m\u001b[1;33m\u001b[0m\u001b[1;33m\u001b[0m\u001b[0m\n\u001b[0;32m    631\u001b[0m                 \u001b[1;32mif\u001b[0m \u001b[1;32mnot\u001b[0m \u001b[0misinstance\u001b[0m\u001b[1;33m(\u001b[0m\u001b[0my_value\u001b[0m\u001b[1;33m,\u001b[0m \u001b[0mNumber\u001b[0m\u001b[1;33m)\u001b[0m\u001b[1;33m:\u001b[0m\u001b[1;33m\u001b[0m\u001b[1;33m\u001b[0m\u001b[0m\n\u001b[1;32m--> 632\u001b[1;33m                     \u001b[1;32mraise\u001b[0m \u001b[0mValueError\u001b[0m\u001b[1;33m(\u001b[0m\u001b[1;34m\"expected y to be a list of scalars\"\u001b[0m\u001b[1;33m)\u001b[0m\u001b[1;33m\u001b[0m\u001b[1;33m\u001b[0m\u001b[0m\n\u001b[0m\u001b[0;32m    633\u001b[0m \u001b[1;33m\u001b[0m\u001b[0m\n\u001b[0;32m    634\u001b[0m         \u001b[1;32melif\u001b[0m \u001b[0mis_listlike\u001b[0m\u001b[1;33m(\u001b[0m\u001b[0mx\u001b[0m\u001b[1;33m)\u001b[0m\u001b[1;33m:\u001b[0m\u001b[1;33m\u001b[0m\u001b[1;33m\u001b[0m\u001b[0m\n",
      "\u001b[1;31mValueError\u001b[0m: expected y to be a list of scalars"
     ]
    }
   ],
   "source": [
    "gp_result = gp_minimize(func=fitness,\n",
    "                            dimensions=dimensions,\n",
    "                            n_calls=12,\n",
    "                            noise= 0.01,\n",
    "                            n_jobs=-1,\n",
    "                            kappa = 5,\n",
    "                            x0=default_parameters)"
   ]
  },
  {
   "cell_type": "code",
   "execution_count": 18,
   "metadata": {},
   "outputs": [
    {
     "ename": "NameError",
     "evalue": "name 'gp_result' is not defined",
     "output_type": "error",
     "traceback": [
      "\u001b[1;31m---------------------------------------------------------------------------\u001b[0m",
      "\u001b[1;31mNameError\u001b[0m                                 Traceback (most recent call last)",
      "\u001b[1;32m<ipython-input-18-27abba91a664>\u001b[0m in \u001b[0;36m<module>\u001b[1;34m\u001b[0m\n\u001b[1;32m----> 1\u001b[1;33m \u001b[0mgp_result\u001b[0m\u001b[1;33m.\u001b[0m\u001b[0mx\u001b[0m\u001b[1;33m[\u001b[0m\u001b[1;36m0\u001b[0m\u001b[1;33m]\u001b[0m\u001b[1;33m\u001b[0m\u001b[1;33m\u001b[0m\u001b[0m\n\u001b[0m",
      "\u001b[1;31mNameError\u001b[0m: name 'gp_result' is not defined"
     ]
    }
   ],
   "source": [
    "gp_result.x[0]"
   ]
  },
  {
   "cell_type": "code",
   "execution_count": null,
   "metadata": {},
   "outputs": [],
   "source": []
  },
  {
   "cell_type": "code",
   "execution_count": null,
   "metadata": {},
   "outputs": [],
   "source": [
    "import time"
   ]
  },
  {
   "cell_type": "code",
   "execution_count": null,
   "metadata": {},
   "outputs": [],
   "source": []
  },
  {
   "cell_type": "code",
   "execution_count": null,
   "metadata": {},
   "outputs": [],
   "source": []
  },
  {
   "cell_type": "code",
   "execution_count": null,
   "metadata": {},
   "outputs": [],
   "source": [
    "\n"
   ]
  },
  {
   "cell_type": "code",
   "execution_count": null,
   "metadata": {},
   "outputs": [],
   "source": []
  },
  {
   "cell_type": "code",
   "execution_count": null,
   "metadata": {},
   "outputs": [],
   "source": []
  },
  {
   "cell_type": "code",
   "execution_count": null,
   "metadata": {},
   "outputs": [],
   "source": []
  },
  {
   "cell_type": "code",
   "execution_count": null,
   "metadata": {},
   "outputs": [],
   "source": []
  },
  {
   "cell_type": "code",
   "execution_count": null,
   "metadata": {},
   "outputs": [],
   "source": []
  },
  {
   "cell_type": "code",
   "execution_count": null,
   "metadata": {},
   "outputs": [],
   "source": []
  },
  {
   "cell_type": "code",
   "execution_count": null,
   "metadata": {},
   "outputs": [],
   "source": []
  },
  {
   "cell_type": "code",
   "execution_count": null,
   "metadata": {},
   "outputs": [],
   "source": []
  }
 ],
 "metadata": {
  "kernelspec": {
   "display_name": "Python 3",
   "language": "python",
   "name": "python3"
  },
  "language_info": {
   "codemirror_mode": {
    "name": "ipython",
    "version": 3
   },
   "file_extension": ".py",
   "mimetype": "text/x-python",
   "name": "python",
   "nbconvert_exporter": "python",
   "pygments_lexer": "ipython3",
   "version": "3.8.5"
  }
 },
 "nbformat": 4,
 "nbformat_minor": 2
}
